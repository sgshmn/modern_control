{
 "cells": [
  {
   "cell_type": "code",
   "execution_count": 1,
   "id": "a756c9c2-9971-4356-ae32-e3ea7a90299f",
   "metadata": {
    "scrolled": true
   },
   "outputs": [
    {
     "name": "stdout",
     "output_type": "stream",
     "text": [
      "Requirement already satisfied: numpy in c:\\users\\165723\\appdata\\local\\miniconda3\\envs\\modern_control\\lib\\site-packages (1.26.1)\n"
     ]
    }
   ],
   "source": [
    "!pip install numpy"
   ]
  },
  {
   "cell_type": "code",
   "execution_count": 2,
   "id": "d383ca73-64db-406b-9e3b-96dec2064cb9",
   "metadata": {
    "scrolled": true
   },
   "outputs": [
    {
     "name": "stdout",
     "output_type": "stream",
     "text": [
      "Requirement already satisfied: sympy in c:\\users\\165723\\appdata\\local\\miniconda3\\envs\\modern_control\\lib\\site-packages (1.12)\n",
      "Requirement already satisfied: mpmath>=0.19 in c:\\users\\165723\\appdata\\local\\miniconda3\\envs\\modern_control\\lib\\site-packages (from sympy) (1.3.0)\n"
     ]
    }
   ],
   "source": [
    "!pip install sympy"
   ]
  },
  {
   "cell_type": "code",
   "execution_count": 3,
   "id": "2467f6d9-4683-4081-aa54-0fe8a3040cb2",
   "metadata": {},
   "outputs": [],
   "source": [
    "import numpy as np"
   ]
  },
  {
   "cell_type": "code",
   "execution_count": 4,
   "id": "882cc5dc-68d2-4272-ac50-00d520d2b81c",
   "metadata": {},
   "outputs": [],
   "source": [
    "import sympy as sp"
   ]
  },
  {
   "cell_type": "code",
   "execution_count": 5,
   "id": "2bf7f308-618b-489b-b9b4-f3c902a74cfd",
   "metadata": {},
   "outputs": [],
   "source": [
    "# x = ((theta),(w))\n",
    "# u = T\n",
    "# y = theta\n",
    "\n",
    "F = 2.5e-4\n",
    "J = 1.76e-5\n",
    "\n",
    "# theta_dot = w\n",
    "# w_dot = 1/J*(T-F*w)\n",
    "\n",
    "# x_dot = A*x + B*u\n",
    "# y = C*x + D*u\n",
    "\n",
    "A = np.array([\n",
    "    [0, 1],\n",
    "    [0, -F/J]\n",
    "])\n",
    "B = np.array([\n",
    "    [0],\n",
    "    [1/J]\n",
    "])\n",
    "C = np.array(\n",
    "    [1, 0]\n",
    ")\n",
    "\n",
    "# D = 0이라 하자"
   ]
  },
  {
   "cell_type": "code",
   "execution_count": 6,
   "id": "a701bab4-757f-474b-a188-a1a8c388c0e8",
   "metadata": {},
   "outputs": [],
   "source": [
    "# u = -Kx\n",
    "# K = [k1, k2]\n",
    "# 초기값을 0으로 하자\n",
    "k1 = sp.symbols('k1')\n",
    "k2 = sp.symbols('k2')\n",
    "\n",
    "K = np.array(\n",
    "    [k1, k2],\n",
    "    ndmin=2\n",
    ")\n",
    "\n",
    "# x_dot = (A-B*K)*x\n",
    "# y = Cx\n",
    "# Acl = A - B*K\n",
    "Acl = A - np.dot(B,K)"
   ]
  },
  {
   "cell_type": "code",
   "execution_count": 7,
   "id": "b7581a23-340a-495a-ae4d-b97bf250799b",
   "metadata": {},
   "outputs": [],
   "source": [
    "s = sp.symbols('s')"
   ]
  },
  {
   "cell_type": "code",
   "execution_count": 11,
   "id": "27b3c40a-f4b7-4166-8fc0-8b4c83c1e984",
   "metadata": {},
   "outputs": [],
   "source": [
    "# characteristic equation\n",
    "t = s*np.eye(2) - Acl\n",
    "# CE = np.linalg.det(t)\n",
    "\n",
    "\n",
    "sp.Matrix("
   ]
  }
 ],
 "metadata": {
  "kernelspec": {
   "display_name": "Python 3 (ipykernel)",
   "language": "python",
   "name": "python3"
  },
  "language_info": {
   "codemirror_mode": {
    "name": "ipython",
    "version": 3
   },
   "file_extension": ".py",
   "mimetype": "text/x-python",
   "name": "python",
   "nbconvert_exporter": "python",
   "pygments_lexer": "ipython3",
   "version": "3.12.0"
  }
 },
 "nbformat": 4,
 "nbformat_minor": 5
}
